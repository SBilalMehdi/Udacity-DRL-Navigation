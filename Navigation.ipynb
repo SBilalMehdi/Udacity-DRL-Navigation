{
 "cells": [
  {
   "cell_type": "code",
   "execution_count": 1,
   "metadata": {},
   "outputs": [
    {
     "name": "stderr",
     "output_type": "stream",
     "text": [
      "INFO:unityagents:\n",
      "'Academy' started successfully!\n",
      "Unity Academy name: Academy\n",
      "        Number of Brains: 1\n",
      "        Number of External Brains : 1\n",
      "        Lesson number : 0\n",
      "        Reset Parameters :\n",
      "\t\t\n",
      "Unity brain name: BananaBrain\n",
      "        Number of Visual Observations (per agent): 0\n",
      "        Vector Observation space type: continuous\n",
      "        Vector Observation space size (per agent): 37\n",
      "        Number of stacked Vector Observation: 1\n",
      "        Vector Action space type: discrete\n",
      "        Vector Action space size (per agent): 4\n",
      "        Vector Action descriptions: , , , \n"
     ]
    }
   ],
   "source": [
    "from unityagents import UnityEnvironment\n",
    "import numpy as np\n",
    "from dqn_agent import Agent\n",
    "from collections import deque\n",
    "import torch\n",
    "import pickle\n",
    "import matplotlib.pyplot as plt\n",
    "\n",
    "\n",
    "# Load the environment\n",
    "env = UnityEnvironment(file_name = \"Banana/Banana.app\")\n",
    "# get the default brain\n",
    "brain_name = env.brain_names[0]\n",
    "brain = env.brains[brain_name]\n",
    "\n",
    "# Get handle to later interact with the environment\n",
    "env_info = env.reset(train_mode=True)[brain_name]\n",
    "\n",
    "# Get state and action information\n",
    "action_size = brain.vector_action_space_size\n",
    "state = env_info.vector_observations[0]\n",
    "state_size = len(state)"
   ]
  },
  {
   "cell_type": "code",
   "execution_count": 2,
   "metadata": {
    "scrolled": true
   },
   "outputs": [
    {
     "name": "stdout",
     "output_type": "stream",
     "text": [
      "Episode 100\tAverage Score: 1.17\n",
      "Episode 200\tAverage Score: 5.29\n",
      "Episode 300\tAverage Score: 8.30\n",
      "Episode 400\tAverage Score: 11.10\n",
      "Episode 500\tAverage Score: 12.04\n",
      "Episode 528\tAverage Score: 13.01\n",
      "Environment solved in 428 episodes!\tAverage Score: 13.01\n"
     ]
    },
    {
     "data": {
      "image/png": "[encoded data removed]",
      "text/plain": [
       "<Figure size 432x288 with 1 Axes>"
      ]
     },
     "metadata": {
      "needs_background": "light"
     },
     "output_type": "display_data"
    }
   ],
   "source": [
    "# Set the training parameters\n",
    "max_t = 20000\n",
    "max_episodes = 1000\n",
    "eps_start=1.0\n",
    "eps_end=0.01\n",
    "eps_decay=0.995\n",
    "\n",
    "num_layers = 1                         # number of hidden layers in the Q networks\n",
    "num_units = 64                         # number of units in each hidden layer of the Q networks\n",
    "for gamma in [0.99]:                   # iterate over a set of gamma values that need to be tried\n",
    "    for tau in [1e-03]:                # iterate over a set of tau values that need to be tried\n",
    "        \n",
    "        averaged_score_history = []    # list containing scores from each episode\n",
    "        \n",
    "        # Initialize the agent with the selected hyperparameters\n",
    "        if num_layers > 1:    \n",
    "            agent = Agent(state_size=state_size, action_size=action_size, seed=1, two_layers = True, fc1_units=num_units, fc2_units=num_units, gamma=gamma, tau=tau)\n",
    "        else:\n",
    "            agent = Agent(state_size=state_size, action_size=action_size, seed=1, two_layers = False, fc1_units=num_units, fc2_units=num_units, gamma=gamma, tau=tau)\n",
    "            \n",
    "        scores_window = deque(maxlen=100)  # last 100 scores\n",
    "        eps = eps_start                    # initialize epsilon\n",
    "        \n",
    "        for i_episode in range(1, max_episodes+1):\n",
    "            env_info = env.reset(train_mode=True)[brain_name]    \n",
    "            state = env_info.vector_observations[0]\n",
    "            done = False\n",
    "            score = 0\n",
    "            while not done:\n",
    "                action =  np.int32(agent.act(state, eps))             # get action from the agent\n",
    "                env_info = env.step(action)[brain_name]               # send the action to the environment\n",
    "                next_state = env_info.vector_observations[0]          # get the next state\n",
    "                reward = env_info.rewards[0]                          # get the reward\n",
    "                done = env_info.local_done[0]                         # see if episode has finished\n",
    "                agent.step(state, action, reward, next_state, done)   # put the memory in storage and possibly update Q networks\n",
    "                state = next_state\n",
    "                score += reward\n",
    "                if done:\n",
    "                    break \n",
    "            \n",
    "            scores_window.append(score)\n",
    "            \n",
    "            # If 100 or more episodes have passed, store the averaged score history\n",
    "            if i_episode > 99:\n",
    "                averaged_score_history.append(np.mean(scores_window))\n",
    "            \n",
    "            # update the epsilon used for the epsilon greedy policy\n",
    "            eps = max(eps_end, eps_decay*eps)\n",
    "            \n",
    "            print('\\rEpisode {}\\tAverage Score: {:.2f}'.format(i_episode, np.mean(scores_window)), end=\"\")\n",
    "            if i_episode % 100 == 0:\n",
    "                print('')\n",
    "            if np.mean(scores_window)>=13.0:\n",
    "                print('\\nEnvironment solved in {:d} episodes!\\tAverage Score: {:.2f}'.format(i_episode-100, np.mean(scores_window)))\n",
    "                torch.save(agent.qnetwork_local.state_dict(), 'model.pt')\n",
    "                break\n",
    "\n",
    "plt.plot(averaged_score_history)\n",
    "plt.xlabel('Iteration')\n",
    "plt.ylabel('Average score of next 100 iterations')\n",
    "plt.show()\n"
   ]
  },
  {
   "cell_type": "code",
   "execution_count": null,
   "metadata": {},
   "outputs": [],
   "source": []
  }
 ],
 "metadata": {
  "kernelspec": {
   "display_name": "drlnd",
   "language": "python",
   "name": "drlnd"
  },
  "language_info": {
   "codemirror_mode": {
    "name": "ipython",
    "version": 3
   },
   "file_extension": ".py",
   "mimetype": "text/x-python",
   "name": "python",
   "nbconvert_exporter": "python",
   "pygments_lexer": "ipython3",
   "version": "3.6.7"
  }
 },
 "nbformat": 4,
 "nbformat_minor": 2
}
